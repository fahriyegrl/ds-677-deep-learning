{
  "nbformat": 4,
  "nbformat_minor": 0,
  "metadata": {
    "colab": {
      "provenance": [],
      "include_colab_link": true
    },
    "kernelspec": {
      "name": "python3",
      "display_name": "Python 3"
    }
  },
  "cells": [
    {
      "cell_type": "markdown",
      "metadata": {
        "id": "view-in-github",
        "colab_type": "text"
      },
      "source": [
        "<a href=\"https://colab.research.google.com/github/fahriyegrl/ds-677-deep-learning/blob/main/autograd.ipynb\" target=\"_parent\"><img src=\"https://colab.research.google.com/assets/colab-badge.svg\" alt=\"Open In Colab\"/></a>"
      ]
    },
    {
      "cell_type": "markdown",
      "metadata": {
        "id": "UCDDycpzBya7"
      },
      "source": [
        "## **Automatic Computation of Gradients**\n",
        "\n",
        "Let's take a look at how PyTorch can compute gradients"
      ]
    },
    {
      "cell_type": "code",
      "metadata": {
        "id": "S68ua3N5Fd12"
      },
      "source": [
        "import torch"
      ],
      "execution_count": null,
      "outputs": []
    },
    {
      "cell_type": "code",
      "metadata": {
        "colab": {
          "base_uri": "https://localhost:8080/"
        },
        "id": "hSa46v75Ff_B",
        "outputId": "467f2641-c519-4849-9d7e-816023d4116c"
      },
      "source": [
        "x = torch.tensor(2., requires_grad = True)\n",
        "y = torch.tensor(3., requires_grad = True)\n",
        "\n",
        "f = 3*x**3 - y**2\n",
        "print(f)\n",
        "\n",
        "\n",
        "# This computes the gradient\n",
        "f.backward()\n",
        "\n",
        "# The derivative of f with respect to x is 9*x^2   -- Let's see if this is calculated correctly at x==2\n",
        "# We expect it to be 9*2^2 = 36\n",
        "\n",
        "print(x.grad)\n",
        "\n",
        "# The derivative of f with respect to y is -2*y   -- Let's see if this is calculated correctly at y==3\n",
        "# We expect it to be -2*3 = -6\n",
        "\n",
        "print(y.grad)\n",
        "\n"
      ],
      "execution_count": null,
      "outputs": [
        {
          "output_type": "stream",
          "name": "stdout",
          "text": [
            "tensor(15., grad_fn=<SubBackward0>)\n",
            "tensor(36.)\n",
            "tensor(-6.)\n"
          ]
        }
      ]
    },
    {
      "cell_type": "code",
      "metadata": {
        "id": "0HapP5eRA_Qj",
        "colab": {
          "base_uri": "https://localhost:8080/"
        },
        "outputId": "43a98019-f7b8-4ebe-acee-796909e79322"
      },
      "source": [
        "# Notice how our tensors are now vectors\n",
        "\n",
        "\n",
        "x = torch.tensor([2., 3.], requires_grad=True)\n",
        "y = torch.tensor([6., 4.], requires_grad=True)\n",
        "\n",
        "\n",
        "\n",
        "F = 3*x**3 - y**2\n",
        "print(F)\n",
        "\n"
      ],
      "execution_count": null,
      "outputs": [
        {
          "output_type": "stream",
          "name": "stdout",
          "text": [
            "tensor([-12.,  65.], grad_fn=<SubBackward0>)\n"
          ]
        }
      ]
    },
    {
      "cell_type": "markdown",
      "metadata": {
        "id": "kWTRq3hPKW0r"
      },
      "source": [
        "#### **A small reference to Jacobians**\n",
        "\n",
        "Now our function F is also a vector, not a scalar as before. Specifically\n",
        "we have\n",
        "\n",
        "$$  F =\n",
        " \\begin{pmatrix}\n",
        " 3 x_1^3 - y_1^2 \\\\\n",
        " 3 x_2^3 - y_2^2\n",
        "\\end{pmatrix}\n",
        "$$\n",
        "\n",
        "Here $x_i$ is the entry $i$ of the vector $x$, and similarly for $y_i$.\n",
        "\n",
        "\n",
        "Formally, the generalization of the 'gradient' of F with respect to the vector $x$ is called a Jacobian and looks like this:\n",
        "$$  J =\n",
        " \\begin{pmatrix}\n",
        " \\frac{\\partial{F_1}}{\\partial x_1} & \\frac{\\partial{F_1}}{\\partial x_2} \\\\\n",
        " \\frac{\\partial{F_2}}{\\partial x_1} & \\frac{\\partial{F_2}}{\\partial x_2}\n",
        "\\end{pmatrix}\n",
        "$$\n",
        "\n",
        "Here $F_i$ is the entry $i$ of the vector $F$.If we do the calculations we get:\n",
        "\n",
        "$$\n",
        " \\begin{pmatrix}\n",
        " 9x_1^2 & 0 \\\\\n",
        " 0 & 9x_2^2\n",
        "\\end{pmatrix}\n",
        "$$\n",
        "\n",
        "More generally, the gradient of a function with $m$ entries with respect to a vector of $n$ entries, will be a Jacobian matrix of size $m \\times n$. In general, all entries can be non-zero (more on the assignment).\n",
        "\n",
        "\n"
      ]
    },
    {
      "cell_type": "code",
      "metadata": {
        "colab": {
          "base_uri": "https://localhost:8080/",
          "height": 327
        },
        "id": "n803En6pBiWr",
        "outputId": "11817cd9-6530-4dd2-bf4d-f0bc8ff5c0f9"
      },
      "source": [
        "F.backward()"
      ],
      "execution_count": null,
      "outputs": [
        {
          "output_type": "error",
          "ename": "RuntimeError",
          "evalue": "ignored",
          "traceback": [
            "\u001b[0;31m---------------------------------------------------------------------------\u001b[0m",
            "\u001b[0;31mRuntimeError\u001b[0m                              Traceback (most recent call last)",
            "\u001b[0;32m<ipython-input-5-99ea150b60f8>\u001b[0m in \u001b[0;36m<cell line: 1>\u001b[0;34m()\u001b[0m\n\u001b[0;32m----> 1\u001b[0;31m \u001b[0mF\u001b[0m\u001b[0;34m.\u001b[0m\u001b[0mbackward\u001b[0m\u001b[0;34m(\u001b[0m\u001b[0;34m)\u001b[0m\u001b[0;34m\u001b[0m\u001b[0;34m\u001b[0m\u001b[0m\n\u001b[0m",
            "\u001b[0;32m/usr/local/lib/python3.10/dist-packages/torch/_tensor.py\u001b[0m in \u001b[0;36mbackward\u001b[0;34m(self, gradient, retain_graph, create_graph, inputs)\u001b[0m\n\u001b[1;32m    485\u001b[0m                 \u001b[0minputs\u001b[0m\u001b[0;34m=\u001b[0m\u001b[0minputs\u001b[0m\u001b[0;34m,\u001b[0m\u001b[0;34m\u001b[0m\u001b[0;34m\u001b[0m\u001b[0m\n\u001b[1;32m    486\u001b[0m             )\n\u001b[0;32m--> 487\u001b[0;31m         torch.autograd.backward(\n\u001b[0m\u001b[1;32m    488\u001b[0m             \u001b[0mself\u001b[0m\u001b[0;34m,\u001b[0m \u001b[0mgradient\u001b[0m\u001b[0;34m,\u001b[0m \u001b[0mretain_graph\u001b[0m\u001b[0;34m,\u001b[0m \u001b[0mcreate_graph\u001b[0m\u001b[0;34m,\u001b[0m \u001b[0minputs\u001b[0m\u001b[0;34m=\u001b[0m\u001b[0minputs\u001b[0m\u001b[0;34m\u001b[0m\u001b[0;34m\u001b[0m\u001b[0m\n\u001b[1;32m    489\u001b[0m         )\n",
            "\u001b[0;32m/usr/local/lib/python3.10/dist-packages/torch/autograd/__init__.py\u001b[0m in \u001b[0;36mbackward\u001b[0;34m(tensors, grad_tensors, retain_graph, create_graph, grad_variables, inputs)\u001b[0m\n\u001b[1;32m    191\u001b[0m \u001b[0;34m\u001b[0m\u001b[0m\n\u001b[1;32m    192\u001b[0m     \u001b[0mgrad_tensors_\u001b[0m \u001b[0;34m=\u001b[0m \u001b[0m_tensor_or_tensors_to_tuple\u001b[0m\u001b[0;34m(\u001b[0m\u001b[0mgrad_tensors\u001b[0m\u001b[0;34m,\u001b[0m \u001b[0mlen\u001b[0m\u001b[0;34m(\u001b[0m\u001b[0mtensors\u001b[0m\u001b[0;34m)\u001b[0m\u001b[0;34m)\u001b[0m\u001b[0;34m\u001b[0m\u001b[0;34m\u001b[0m\u001b[0m\n\u001b[0;32m--> 193\u001b[0;31m     \u001b[0mgrad_tensors_\u001b[0m \u001b[0;34m=\u001b[0m \u001b[0m_make_grads\u001b[0m\u001b[0;34m(\u001b[0m\u001b[0mtensors\u001b[0m\u001b[0;34m,\u001b[0m \u001b[0mgrad_tensors_\u001b[0m\u001b[0;34m,\u001b[0m \u001b[0mis_grads_batched\u001b[0m\u001b[0;34m=\u001b[0m\u001b[0;32mFalse\u001b[0m\u001b[0;34m)\u001b[0m\u001b[0;34m\u001b[0m\u001b[0;34m\u001b[0m\u001b[0m\n\u001b[0m\u001b[1;32m    194\u001b[0m     \u001b[0;32mif\u001b[0m \u001b[0mretain_graph\u001b[0m \u001b[0;32mis\u001b[0m \u001b[0;32mNone\u001b[0m\u001b[0;34m:\u001b[0m\u001b[0;34m\u001b[0m\u001b[0;34m\u001b[0m\u001b[0m\n\u001b[1;32m    195\u001b[0m         \u001b[0mretain_graph\u001b[0m \u001b[0;34m=\u001b[0m \u001b[0mcreate_graph\u001b[0m\u001b[0;34m\u001b[0m\u001b[0;34m\u001b[0m\u001b[0m\n",
            "\u001b[0;32m/usr/local/lib/python3.10/dist-packages/torch/autograd/__init__.py\u001b[0m in \u001b[0;36m_make_grads\u001b[0;34m(outputs, grads, is_grads_batched)\u001b[0m\n\u001b[1;32m     86\u001b[0m             \u001b[0;32mif\u001b[0m \u001b[0mout\u001b[0m\u001b[0;34m.\u001b[0m\u001b[0mrequires_grad\u001b[0m\u001b[0;34m:\u001b[0m\u001b[0;34m\u001b[0m\u001b[0;34m\u001b[0m\u001b[0m\n\u001b[1;32m     87\u001b[0m                 \u001b[0;32mif\u001b[0m \u001b[0mout\u001b[0m\u001b[0;34m.\u001b[0m\u001b[0mnumel\u001b[0m\u001b[0;34m(\u001b[0m\u001b[0;34m)\u001b[0m \u001b[0;34m!=\u001b[0m \u001b[0;36m1\u001b[0m\u001b[0;34m:\u001b[0m\u001b[0;34m\u001b[0m\u001b[0;34m\u001b[0m\u001b[0m\n\u001b[0;32m---> 88\u001b[0;31m                     \u001b[0;32mraise\u001b[0m \u001b[0mRuntimeError\u001b[0m\u001b[0;34m(\u001b[0m\u001b[0;34m\"grad can be implicitly created only for scalar outputs\"\u001b[0m\u001b[0;34m)\u001b[0m\u001b[0;34m\u001b[0m\u001b[0;34m\u001b[0m\u001b[0m\n\u001b[0m\u001b[1;32m     89\u001b[0m                 \u001b[0mnew_grads\u001b[0m\u001b[0;34m.\u001b[0m\u001b[0mappend\u001b[0m\u001b[0;34m(\u001b[0m\u001b[0mtorch\u001b[0m\u001b[0;34m.\u001b[0m\u001b[0mones_like\u001b[0m\u001b[0;34m(\u001b[0m\u001b[0mout\u001b[0m\u001b[0;34m,\u001b[0m \u001b[0mmemory_format\u001b[0m\u001b[0;34m=\u001b[0m\u001b[0mtorch\u001b[0m\u001b[0;34m.\u001b[0m\u001b[0mpreserve_format\u001b[0m\u001b[0;34m)\u001b[0m\u001b[0;34m)\u001b[0m\u001b[0;34m\u001b[0m\u001b[0;34m\u001b[0m\u001b[0m\n\u001b[1;32m     90\u001b[0m             \u001b[0;32melse\u001b[0m\u001b[0;34m:\u001b[0m\u001b[0;34m\u001b[0m\u001b[0;34m\u001b[0m\u001b[0m\n",
            "\u001b[0;31mRuntimeError\u001b[0m: grad can be implicitly created only for scalar outputs"
          ]
        }
      ]
    },
    {
      "cell_type": "markdown",
      "metadata": {
        "id": "_bqmTXl7Cjw3"
      },
      "source": [
        "Here 'backward' will not produce the entire Jacobian as one might expect. The reason is practical. The Jacobian will be a very big matrix,  and not all gradients are needed by the solvers. So, they are not computed.\n",
        "\n",
        "We only need **linear combinations** of these gradients (i.e. their weighted sums). So, here 'backward' requires another vector tensor argument $T$, and what is computed internally is the product $J^T v$. In fact, this Jacobian-vector products simply compute the chain rule with such 'vector' functions.\n",
        "\n"
      ]
    },
    {
      "cell_type": "code",
      "metadata": {
        "id": "O4GAw5PlBtfz"
      },
      "source": [
        "T = torch.tensor([1., 1.])\n",
        "F.backward(gradient=T)\n",
        "\n"
      ],
      "execution_count": null,
      "outputs": []
    },
    {
      "cell_type": "code",
      "metadata": {
        "colab": {
          "base_uri": "https://localhost:8080/"
        },
        "id": "dazu5-F-DOVk",
        "outputId": "bf6a103f-843e-40e4-fde0-a9eb926046bc"
      },
      "source": [
        "print(x.grad)\n",
        "print(y.grad)\n"
      ],
      "execution_count": null,
      "outputs": [
        {
          "output_type": "stream",
          "name": "stdout",
          "text": [
            "tensor([36., 81.])\n",
            "tensor([-12.,  -8.])\n"
          ]
        }
      ]
    },
    {
      "cell_type": "code",
      "metadata": {
        "colab": {
          "base_uri": "https://localhost:8080/"
        },
        "id": "PSXkGduiTzCA",
        "outputId": "98dd8b9f-b3ce-400a-e0ba-5cfa2fea0499"
      },
      "source": [
        "# now let's try to assess the gradient of F\n",
        "print(F.grad)"
      ],
      "execution_count": null,
      "outputs": [
        {
          "output_type": "stream",
          "name": "stdout",
          "text": [
            "None\n"
          ]
        },
        {
          "output_type": "stream",
          "name": "stderr",
          "text": [
            "/usr/local/lib/python3.7/dist-packages/torch/_tensor.py:1083: UserWarning: The .grad attribute of a Tensor that is not a leaf Tensor is being accessed. Its .grad attribute won't be populated during autograd.backward(). If you indeed want the .grad field to be populated for a non-leaf Tensor, use .retain_grad() on the non-leaf Tensor. If you access the non-leaf Tensor by mistake, make sure you access the leaf Tensor instead. See github.com/pytorch/pytorch/pull/30531 for more informations. (Triggered internally at  aten/src/ATen/core/TensorBody.h:477.)\n",
            "  return self._grad\n"
          ]
        }
      ]
    },
    {
      "cell_type": "markdown",
      "metadata": {
        "id": "JivXf9uzY-wg"
      },
      "source": [
        "### Automatic gradients of more complicated functions\n",
        "\n",
        "The automatic gradient computation supports multiple basic functions and all their combinations. But **importantly** these functions need to be computed\n",
        "using their pytorch versions. For example:"
      ]
    },
    {
      "cell_type": "code",
      "metadata": {
        "colab": {
          "base_uri": "https://localhost:8080/"
        },
        "id": "mgzQuIpIZN-Q",
        "outputId": "ffb10156-325c-4638-8b9d-da6e4f24e53d"
      },
      "source": [
        "x = torch.tensor(2., requires_grad = True)\n",
        "y = torch.tensor(3., requires_grad = True)\n",
        "\n",
        "f = 3*torch.cos(x) - torch.sin(y)**2\n",
        "\n",
        "# This computes the gradient\n",
        "f.backward()\n",
        "\n",
        "\n",
        "print(x.grad)\n",
        "\n",
        "\n",
        "print(y.grad)"
      ],
      "execution_count": null,
      "outputs": [
        {
          "output_type": "stream",
          "name": "stdout",
          "text": [
            "tensor(-2.7279)\n",
            "tensor(0.2794)\n"
          ]
        }
      ]
    },
    {
      "cell_type": "code",
      "metadata": {
        "id": "MW0zksSfZd7R"
      },
      "source": [],
      "execution_count": null,
      "outputs": []
    },
    {
      "cell_type": "markdown",
      "metadata": {
        "id": "_s8tozcneGrQ"
      },
      "source": [
        "### Side note: How to be frugal with derivatives\n",
        "\n",
        "We can exclude some parameters from derivative computation, a fact\n",
        "that as we will see is useful when we are done training a model and\n",
        "we just want to evaluate it on new points."
      ]
    },
    {
      "cell_type": "code",
      "metadata": {
        "colab": {
          "base_uri": "https://localhost:8080/"
        },
        "id": "MUySn7sZebep",
        "outputId": "dc3cd192-80be-4c9e-c298-a5a63cc786e4"
      },
      "source": [
        "x = torch.tensor(2., requires_grad = True)\n",
        "y = torch.tensor(3., requires_grad = False)\n",
        "\n",
        "f = 3*torch.cos(x) - torch.sin(y)**2\n",
        "\n",
        "# This computes the gradient\n",
        "f.backward()\n",
        "\n",
        "\n",
        "print(x.grad)\n",
        "print(y.grad)"
      ],
      "execution_count": null,
      "outputs": [
        {
          "output_type": "stream",
          "name": "stdout",
          "text": [
            "tensor(-2.7279)\n",
            "None\n"
          ]
        }
      ]
    },
    {
      "cell_type": "code",
      "metadata": {
        "id": "p2oUTj_aedna"
      },
      "source": [],
      "execution_count": null,
      "outputs": []
    }
  ]
}