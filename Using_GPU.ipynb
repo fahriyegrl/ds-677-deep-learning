{
  "nbformat": 4,
  "nbformat_minor": 0,
  "metadata": {
    "colab": {
      "provenance": [],
      "include_colab_link": true
    },
    "kernelspec": {
      "name": "python3",
      "display_name": "Python 3"
    },
    "accelerator": "GPU",
    "gpuClass": "standard"
  },
  "cells": [
    {
      "cell_type": "markdown",
      "metadata": {
        "id": "view-in-github",
        "colab_type": "text"
      },
      "source": [
        "<a href=\"https://colab.research.google.com/github/fahriyegrl/ds-677-deep-learning/blob/main/Using_GPU.ipynb\" target=\"_parent\"><img src=\"https://colab.research.google.com/assets/colab-badge.svg\" alt=\"Open In Colab\"/></a>"
      ]
    },
    {
      "cell_type": "code",
      "metadata": {
        "colab": {
          "base_uri": "https://localhost:8080/"
        },
        "id": "TO_3Oef48HaY",
        "outputId": "498c1c2b-cef7-4098-9433-ee2a92d93e1c"
      },
      "source": [
        "import numpy as np\n",
        "import torch\n",
        "import time\n",
        "\n",
        "# All machines have CPUs but some machines have also GPUs\n",
        "# Having a GPU can make a huge difference\n",
        "\n",
        "device = 'cuda' if torch.cuda.is_available() else 'cpu'\n",
        "print(device)"
      ],
      "execution_count": null,
      "outputs": [
        {
          "output_type": "stream",
          "name": "stdout",
          "text": [
            "cuda\n"
          ]
        }
      ]
    },
    {
      "cell_type": "code",
      "metadata": {
        "id": "3A19YSp4Gb1r"
      },
      "source": [
        "# Generate some random matrices. These are numpy, so they 'live' on the CPU\n",
        "\n",
        "n = 10000\n",
        "a = np.random.random([n,n])\n",
        "b = np.random.random([n,n])"
      ],
      "execution_count": null,
      "outputs": []
    },
    {
      "cell_type": "code",
      "metadata": {
        "id": "5Iu2HEE2GpE5"
      },
      "source": [
        "# But we can put them on the GPU\n",
        "\n",
        "Ta  = torch.tensor(a).float().to(device)\n",
        "Tb  = torch.tensor(b).float().to(device)\n"
      ],
      "execution_count": null,
      "outputs": []
    },
    {
      "cell_type": "code",
      "metadata": {
        "colab": {
          "base_uri": "https://localhost:8080/"
        },
        "id": "0gEt2XjhIte6",
        "outputId": "6c43ccbd-28f5-4451-8f66-6fa3f141f721"
      },
      "source": [
        "# Let's check the runtimes\n",
        "\n",
        "start = time.time()\n",
        "Tc = torch.matmul(Ta,Tb)\n",
        "end = time.time()\n",
        "print(end-start)\n",
        "\n",
        "# now let's put those back in the CPU and check again runtimes\n",
        "\n",
        "Ta = torch.Tensor.cpu(Ta)\n",
        "Tb = torch.Tensor.cpu(Tb)\n",
        "\n",
        "start = time.time()\n",
        "Tc = torch.matmul(Ta,Tb)\n",
        "end = time.time()\n",
        "print(end-start)"
      ],
      "execution_count": null,
      "outputs": [
        {
          "output_type": "stream",
          "name": "stdout",
          "text": [
            "2.959892511367798\n",
            "24.385620832443237\n"
          ]
        }
      ]
    },
    {
      "cell_type": "code",
      "metadata": {
        "id": "X7OlrzWuJ_UJ"
      },
      "source": [
        "# of course, most of the times we won't have to move data between CPU and GPU"
      ],
      "execution_count": null,
      "outputs": []
    }
  ]
}