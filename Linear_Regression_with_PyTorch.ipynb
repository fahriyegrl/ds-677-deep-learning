{
  "nbformat": 4,
  "nbformat_minor": 0,
  "metadata": {
    "colab": {
      "provenance": [],
      "include_colab_link": true
    },
    "kernelspec": {
      "name": "python3",
      "display_name": "Python 3"
    }
  },
  "cells": [
    {
      "cell_type": "markdown",
      "metadata": {
        "id": "view-in-github",
        "colab_type": "text"
      },
      "source": [
        "<a href=\"https://colab.research.google.com/github/fahriyegrl/ds-677-deep-learning/blob/main/Linear_Regression_with_PyTorch.ipynb\" target=\"_parent\"><img src=\"https://colab.research.google.com/assets/colab-badge.svg\" alt=\"Open In Colab\"/></a>"
      ]
    },
    {
      "cell_type": "code",
      "metadata": {
        "colab": {
          "base_uri": "https://localhost:8080/"
        },
        "id": "QfIQS09RY19n",
        "outputId": "4ccf74e0-6543-4bef-afe2-e953ddafa2b2"
      },
      "source": [
        "import numpy as np\n",
        "import sklearn\n",
        "import torch\n",
        "import torch.optim as optim\n",
        "import torch.nn as nn\n",
        "\n",
        "!pip install torchviz\n",
        "from torchviz import make_dot"
      ],
      "execution_count": null,
      "outputs": [
        {
          "output_type": "stream",
          "name": "stdout",
          "text": [
            "Collecting torchviz\n",
            "  Downloading torchviz-0.0.2.tar.gz (4.9 kB)\n",
            "  Preparing metadata (setup.py) ... \u001b[?25l\u001b[?25hdone\n",
            "Requirement already satisfied: torch in /usr/local/lib/python3.10/dist-packages (from torchviz) (2.0.1+cu118)\n",
            "Requirement already satisfied: graphviz in /usr/local/lib/python3.10/dist-packages (from torchviz) (0.20.1)\n",
            "Requirement already satisfied: filelock in /usr/local/lib/python3.10/dist-packages (from torch->torchviz) (3.12.3)\n",
            "Requirement already satisfied: typing-extensions in /usr/local/lib/python3.10/dist-packages (from torch->torchviz) (4.7.1)\n",
            "Requirement already satisfied: sympy in /usr/local/lib/python3.10/dist-packages (from torch->torchviz) (1.12)\n",
            "Requirement already satisfied: networkx in /usr/local/lib/python3.10/dist-packages (from torch->torchviz) (3.1)\n",
            "Requirement already satisfied: jinja2 in /usr/local/lib/python3.10/dist-packages (from torch->torchviz) (3.1.2)\n",
            "Requirement already satisfied: triton==2.0.0 in /usr/local/lib/python3.10/dist-packages (from torch->torchviz) (2.0.0)\n",
            "Requirement already satisfied: cmake in /usr/local/lib/python3.10/dist-packages (from triton==2.0.0->torch->torchviz) (3.27.2)\n",
            "Requirement already satisfied: lit in /usr/local/lib/python3.10/dist-packages (from triton==2.0.0->torch->torchviz) (16.0.6)\n",
            "Requirement already satisfied: MarkupSafe>=2.0 in /usr/local/lib/python3.10/dist-packages (from jinja2->torch->torchviz) (2.1.3)\n",
            "Requirement already satisfied: mpmath>=0.19 in /usr/local/lib/python3.10/dist-packages (from sympy->torch->torchviz) (1.3.0)\n",
            "Building wheels for collected packages: torchviz\n",
            "  Building wheel for torchviz (setup.py) ... \u001b[?25l\u001b[?25hdone\n",
            "  Created wheel for torchviz: filename=torchviz-0.0.2-py3-none-any.whl size=4130 sha256=d81f01db2187066a5b993453813309852c9b05765f6be23798326dab63c06321\n",
            "  Stored in directory: /root/.cache/pip/wheels/4c/97/88/a02973217949e0db0c9f4346d154085f4725f99c4f15a87094\n",
            "Successfully built torchviz\n",
            "Installing collected packages: torchviz\n",
            "Successfully installed torchviz-0.0.2\n"
          ]
        }
      ]
    },
    {
      "cell_type": "markdown",
      "metadata": {
        "id": "CQWEHWbWM0ZQ"
      },
      "source": [
        "### **Create data in NumPy**\n",
        "\n",
        "Each point comes from the 'ideal' line $y = 2x +1$, but adding some random small number. The goal will be to find what line fits the data as well as possible. And that line should be very close to that ideal line."
      ]
    },
    {
      "cell_type": "code",
      "metadata": {
        "id": "gsIRmSAnMc1u"
      },
      "source": [
        "\n",
        "\n",
        "# Data Generation\n",
        "np.random.seed(42)\n",
        "x = np.random.rand(100, 1)\n",
        "y = 1 + 2 * x + .1 * np.random.randn(100, 1)\n",
        "\n",
        "# Shuffles the indices\n",
        "idx = np.arange(100)\n",
        "np.random.shuffle(idx)\n",
        "\n",
        "# Uses first 80 random indices for train\n",
        "train_idx = idx[:80]\n",
        "# Uses the remaining indices for validation\n",
        "val_idx = idx[80:]\n",
        "\n",
        "# Generates train and validation sets\n",
        "x_train, y_train = x[train_idx], y[train_idx]\n",
        "x_val, y_val = x[val_idx], y[val_idx]"
      ],
      "execution_count": null,
      "outputs": []
    },
    {
      "cell_type": "markdown",
      "metadata": {
        "id": "uZvjx-BcRLpK"
      },
      "source": [
        "### **Linear Regression with NumPy**\n",
        "\n",
        "The following code implements gradient descent. It just sets two parameters $(a, b)$ and searches for the lines $y = b\\cdot x + a$ that minimizes the mean square error."
      ]
    },
    {
      "cell_type": "code",
      "metadata": {
        "colab": {
          "base_uri": "https://localhost:8080/"
        },
        "id": "E3mWZ7CMOIg0",
        "outputId": "81f0ba35-9afc-4c0a-fad0-a127de50a336"
      },
      "source": [
        "np.random.seed(42)\n",
        "a = np.random.randn(1)\n",
        "b = np.random.randn(1)\n",
        "\n",
        "print(a, b)\n",
        "\n",
        "# Sets learning rate\n",
        "lr = 1e-1\n",
        "# Defines number of epochs\n",
        "n_epochs = 1000\n",
        "\n",
        "for epoch in range(n_epochs):\n",
        "    # Computes our model's predicted output\n",
        "    yhat = a + b * x_train\n",
        "\n",
        "    # The error\n",
        "    error = (y_train - yhat)\n",
        "    # It is a regression, so it computes mean squared error (MSE)\n",
        "    loss = (error ** 2).mean()\n",
        "\n",
        "    # Computes gradients for both \"a\" and \"b\" parameters\n",
        "    a_grad = -2 * error.mean()\n",
        "    b_grad = -2 * (x_train * error).mean()\n",
        "\n",
        "    # Updates parameters using gradients and the learning rate\n",
        "    a = a - lr * a_grad\n",
        "    b = b - lr * b_grad\n",
        "\n",
        "print(a, b)\n",
        "\n",
        "# Sanity Check: do we get the same results as our gradient descent?\n",
        "from sklearn.linear_model import LinearRegression\n",
        "linr = LinearRegression()\n",
        "linr.fit(x_train, y_train)\n",
        "print(linr.intercept_, linr.coef_[0])"
      ],
      "execution_count": null,
      "outputs": [
        {
          "output_type": "stream",
          "name": "stdout",
          "text": [
            "[0.49671415] [-0.1382643]\n",
            "[1.02354094] [1.96896411]\n",
            "[1.02354075] [1.96896447]\n"
          ]
        }
      ]
    },
    {
      "cell_type": "markdown",
      "metadata": {
        "id": "G4-V5PS0afFH"
      },
      "source": [
        "### **Getting things done with PyTorch**"
      ]
    },
    {
      "cell_type": "code",
      "metadata": {
        "colab": {
          "base_uri": "https://localhost:8080/"
        },
        "id": "Qdrb0_-sa3is",
        "outputId": "b4113f00-0a28-479b-b90c-e223a682e281"
      },
      "source": [
        "# Put the data in CPU (or GPU if available)\n",
        "\n",
        "device = 'cuda' if torch.cuda.is_available() else 'cpu'\n",
        "\n",
        "# Our data was in Numpy arrays, but we need to transform them into PyTorch's Tensors\n",
        "# and then we send them to the chosen device\n",
        "x_train_tensor = torch.from_numpy(x_train).float().to(device)\n",
        "y_train_tensor = torch.from_numpy(y_train).float().to(device)\n",
        "\n",
        "# Here we can see the difference - notice that .type() is more useful\n",
        "# since it also tells us WHERE the tensor is (device)\n",
        "print(type(x_train), type(x_train_tensor), x_train_tensor.type())"
      ],
      "execution_count": null,
      "outputs": [
        {
          "output_type": "stream",
          "name": "stdout",
          "text": [
            "<class 'numpy.ndarray'> <class 'torch.Tensor'> torch.FloatTensor\n"
          ]
        }
      ]
    },
    {
      "cell_type": "code",
      "metadata": {
        "id": "LKdpx82VSl89",
        "colab": {
          "base_uri": "https://localhost:8080/"
        },
        "outputId": "d765f54e-6f7e-4a49-f72d-b7933acc5c80"
      },
      "source": [
        "# Create the two parameters. We require gradients and put them on the device at creation time.\n",
        "\n",
        "torch.manual_seed(42)\n",
        "a = torch.randn(1, requires_grad=True, dtype=torch.float, device=device)\n",
        "b = torch.randn(1, requires_grad=True, dtype=torch.float, device=device)\n",
        "print(a, b)"
      ],
      "execution_count": null,
      "outputs": [
        {
          "output_type": "stream",
          "name": "stdout",
          "text": [
            "tensor([0.3367], requires_grad=True) tensor([0.1288], requires_grad=True)\n"
          ]
        }
      ]
    },
    {
      "cell_type": "code",
      "metadata": {
        "colab": {
          "base_uri": "https://localhost:8080/"
        },
        "id": "eKvl7myycxoq",
        "outputId": "3ef20898-0eab-4e28-aa35-64da5bf7b9b7"
      },
      "source": [
        "\n",
        "lr = 1e-1\n",
        "n_epochs = 1000\n",
        "\n",
        "torch.manual_seed(42)\n",
        "a = torch.randn(1, requires_grad=True, dtype=torch.float, device=device)\n",
        "b = torch.randn(1, requires_grad=True, dtype=torch.float, device=device)\n",
        "\n",
        "for epoch in range(n_epochs):\n",
        "    yhat = a + b * x_train_tensor   # current predictions\n",
        "    error = y_train_tensor - yhat   # error\n",
        "    loss = (error ** 2).mean()      # compute loss\n",
        "\n",
        "    # No more manual computation of gradients!\n",
        "    # a_grad = -2 * error.mean()\n",
        "    # b_grad = -2 * (x_tensor * error).mean()\n",
        "\n",
        "    # We just tell PyTorch to work its way BACKWARDS from the specified loss!\n",
        "    loss.backward()\n",
        "    # Let's check the computed gradients...\n",
        "    #print(a.grad)\n",
        "    #print(b.grad)\n",
        "\n",
        "    # What about UPDATING the parameters? Not so fast...\n",
        "\n",
        "    # FIRST ATTEMPT\n",
        "    # AttributeError: 'NoneType' object has no attribute 'zero_'\n",
        "    # a = a - lr * a.grad\n",
        "    # b = b - lr * b.grad\n",
        "    # print(a)\n",
        "\n",
        "    # SECOND ATTEMPT\n",
        "    # RuntimeError: a leaf Variable that requires grad has been used in an in-place operation.\n",
        "    # a -= lr * a.grad\n",
        "    # b -= lr * b.grad\n",
        "\n",
        "    # THIRD ATTEMPT\n",
        "    # We need to use NO_GRAD to keep the update out of the gradient computation\n",
        "    # Why is that? It boils down to the DYNAMIC GRAPH that PyTorch uses...\n",
        "    with torch.no_grad():\n",
        "        a -= lr * a.grad\n",
        "        b -= lr * b.grad\n",
        "\n",
        "    # PyTorch is \"clingy\" to its computed gradients, we need to tell it to let it go...\n",
        "    a.grad.zero_()\n",
        "    b.grad.zero_()\n",
        "\n",
        "print(a, b)"
      ],
      "execution_count": null,
      "outputs": [
        {
          "output_type": "stream",
          "name": "stdout",
          "text": [
            "tensor([1.0235], requires_grad=True) tensor([1.9690], requires_grad=True)\n"
          ]
        }
      ]
    },
    {
      "cell_type": "markdown",
      "metadata": {
        "id": "WfKBwPKyfcmg"
      },
      "source": [
        "### **What is the Dynamic DAG Graph?**"
      ]
    },
    {
      "cell_type": "code",
      "metadata": {
        "id": "vXYs4035eia4"
      },
      "source": [
        "torch.manual_seed(42)\n",
        "a = torch.randn(1, requires_grad=True, dtype=torch.float, device=device)\n",
        "b = torch.randn(1, requires_grad=True, dtype=torch.float, device=device)\n",
        "\n",
        "yhat = a + b * x_train_tensor\n",
        "error = y_train_tensor - yhat\n",
        "loss = (error ** 2).mean()"
      ],
      "execution_count": null,
      "outputs": []
    },
    {
      "cell_type": "code",
      "metadata": {
        "colab": {
          "base_uri": "https://localhost:8080/",
          "height": 249
        },
        "id": "C-g34xn4e5yn",
        "outputId": "9c3c89ef-f412-431f-9cba-f2f1113d60f3"
      },
      "source": [
        "make_dot(yhat)"
      ],
      "execution_count": null,
      "outputs": [
        {
          "output_type": "execute_result",
          "data": {
            "text/plain": [
              "<graphviz.dot.Digraph at 0x7f10d66eae48>"
            ],
            "image/svg+xml": "<?xml version=\"1.0\" encoding=\"UTF-8\" standalone=\"no\"?>\n<!DOCTYPE svg PUBLIC \"-//W3C//DTD SVG 1.1//EN\"\n \"http://www.w3.org/Graphics/SVG/1.1/DTD/svg11.dtd\">\n<!-- Generated by graphviz version 2.40.1 (20161225.0304)\n -->\n<!-- Title: %3 Pages: 1 -->\n<svg width=\"172pt\" height=\"171pt\"\n viewBox=\"0.00 0.00 171.50 171.00\" xmlns=\"http://www.w3.org/2000/svg\" xmlns:xlink=\"http://www.w3.org/1999/xlink\">\n<g id=\"graph0\" class=\"graph\" transform=\"scale(1 1) rotate(0) translate(4 167)\">\n<title>%3</title>\n<polygon fill=\"#ffffff\" stroke=\"transparent\" points=\"-4,4 -4,-167 167.5,-167 167.5,4 -4,4\"/>\n<!-- 139710293778952 -->\n<g id=\"node1\" class=\"node\">\n<title>139710293778952</title>\n<polygon fill=\"#caff70\" stroke=\"#000000\" points=\"118,-21 26,-21 26,0 118,0 118,-21\"/>\n<text text-anchor=\"middle\" x=\"72\" y=\"-7.4\" font-family=\"Times,serif\" font-size=\"12.00\" fill=\"#000000\">AddBackward0</text>\n</g>\n<!-- 139710293782144 -->\n<g id=\"node2\" class=\"node\">\n<title>139710293782144</title>\n<polygon fill=\"#add8e6\" stroke=\"#000000\" points=\"54,-92 0,-92 0,-57 54,-57 54,-92\"/>\n<text text-anchor=\"middle\" x=\"27\" y=\"-64.4\" font-family=\"Times,serif\" font-size=\"12.00\" fill=\"#000000\"> (1)</text>\n</g>\n<!-- 139710293782144&#45;&gt;139710293778952 -->\n<g id=\"edge1\" class=\"edge\">\n<title>139710293782144&#45;&gt;139710293778952</title>\n<path fill=\"none\" stroke=\"#000000\" d=\"M39.535,-56.6724C45.4798,-48.2176 52.5878,-38.1085 58.6352,-29.5078\"/>\n<polygon fill=\"#000000\" stroke=\"#000000\" points=\"61.5714,-31.4169 64.4601,-21.2234 55.8452,-27.3906 61.5714,-31.4169\"/>\n</g>\n<!-- 139710293781528 -->\n<g id=\"node3\" class=\"node\">\n<title>139710293781528</title>\n<polygon fill=\"#d3d3d3\" stroke=\"#000000\" points=\"163.5,-85 72.5,-85 72.5,-64 163.5,-64 163.5,-85\"/>\n<text text-anchor=\"middle\" x=\"118\" y=\"-71.4\" font-family=\"Times,serif\" font-size=\"12.00\" fill=\"#000000\">MulBackward0</text>\n</g>\n<!-- 139710293781528&#45;&gt;139710293778952 -->\n<g id=\"edge2\" class=\"edge\">\n<title>139710293781528&#45;&gt;139710293778952</title>\n<path fill=\"none\" stroke=\"#000000\" d=\"M110.404,-63.9317C103.7191,-54.6309 93.821,-40.8597 85.7479,-29.6276\"/>\n<polygon fill=\"#000000\" stroke=\"#000000\" points=\"88.4395,-27.3753 79.761,-21.2979 82.7553,-31.4608 88.4395,-27.3753\"/>\n</g>\n<!-- 139710293779960 -->\n<g id=\"node4\" class=\"node\">\n<title>139710293779960</title>\n<polygon fill=\"#add8e6\" stroke=\"#000000\" points=\"145,-163 91,-163 91,-128 145,-128 145,-163\"/>\n<text text-anchor=\"middle\" x=\"118\" y=\"-135.4\" font-family=\"Times,serif\" font-size=\"12.00\" fill=\"#000000\"> (1)</text>\n</g>\n<!-- 139710293779960&#45;&gt;139710293781528 -->\n<g id=\"edge3\" class=\"edge\">\n<title>139710293779960&#45;&gt;139710293781528</title>\n<path fill=\"none\" stroke=\"#000000\" d=\"M118,-127.9494C118,-118.058 118,-105.6435 118,-95.2693\"/>\n<polygon fill=\"#000000\" stroke=\"#000000\" points=\"121.5001,-95.0288 118,-85.0288 114.5001,-95.0289 121.5001,-95.0288\"/>\n</g>\n</g>\n</svg>\n"
          },
          "metadata": {
            "tags": []
          },
          "execution_count": 15
        }
      ]
    },
    {
      "cell_type": "code",
      "metadata": {
        "colab": {
          "base_uri": "https://localhost:8080/",
          "height": 477
        },
        "id": "WM659o-Ue80X",
        "outputId": "2ba14ded-27ac-41db-e5f9-4d9d6f40fef7"
      },
      "source": [
        "make_dot(loss)"
      ],
      "execution_count": null,
      "outputs": [
        {
          "output_type": "execute_result",
          "data": {
            "text/plain": [
              "<graphviz.dot.Digraph at 0x7f10d66dbf98>"
            ],
            "image/svg+xml": "<?xml version=\"1.0\" encoding=\"UTF-8\" standalone=\"no\"?>\n<!DOCTYPE svg PUBLIC \"-//W3C//DTD SVG 1.1//EN\"\n \"http://www.w3.org/Graphics/SVG/1.1/DTD/svg11.dtd\">\n<!-- Generated by graphviz version 2.40.1 (20161225.0304)\n -->\n<!-- Title: %3 Pages: 1 -->\n<svg width=\"172pt\" height=\"342pt\"\n viewBox=\"0.00 0.00 171.50 342.00\" xmlns=\"http://www.w3.org/2000/svg\" xmlns:xlink=\"http://www.w3.org/1999/xlink\">\n<g id=\"graph0\" class=\"graph\" transform=\"scale(1 1) rotate(0) translate(4 338)\">\n<title>%3</title>\n<polygon fill=\"#ffffff\" stroke=\"transparent\" points=\"-4,4 -4,-338 167.5,-338 167.5,4 -4,4\"/>\n<!-- 139710293718856 -->\n<g id=\"node1\" class=\"node\">\n<title>139710293718856</title>\n<polygon fill=\"#caff70\" stroke=\"#000000\" points=\"121,-21 23,-21 23,0 121,0 121,-21\"/>\n<text text-anchor=\"middle\" x=\"72\" y=\"-7.4\" font-family=\"Times,serif\" font-size=\"12.00\" fill=\"#000000\">MeanBackward0</text>\n</g>\n<!-- 139710293719416 -->\n<g id=\"node2\" class=\"node\">\n<title>139710293719416</title>\n<polygon fill=\"#d3d3d3\" stroke=\"#000000\" points=\"118.5,-78 25.5,-78 25.5,-57 118.5,-57 118.5,-78\"/>\n<text text-anchor=\"middle\" x=\"72\" y=\"-64.4\" font-family=\"Times,serif\" font-size=\"12.00\" fill=\"#000000\">PowBackward0</text>\n</g>\n<!-- 139710293719416&#45;&gt;139710293718856 -->\n<g id=\"edge1\" class=\"edge\">\n<title>139710293719416&#45;&gt;139710293718856</title>\n<path fill=\"none\" stroke=\"#000000\" d=\"M72,-56.7787C72,-49.6134 72,-39.9517 72,-31.3097\"/>\n<polygon fill=\"#000000\" stroke=\"#000000\" points=\"75.5001,-31.1732 72,-21.1732 68.5001,-31.1732 75.5001,-31.1732\"/>\n</g>\n<!-- 139710293719304 -->\n<g id=\"node3\" class=\"node\">\n<title>139710293719304</title>\n<polygon fill=\"#d3d3d3\" stroke=\"#000000\" points=\"117,-135 27,-135 27,-114 117,-114 117,-135\"/>\n<text text-anchor=\"middle\" x=\"72\" y=\"-121.4\" font-family=\"Times,serif\" font-size=\"12.00\" fill=\"#000000\">SubBackward0</text>\n</g>\n<!-- 139710293719304&#45;&gt;139710293719416 -->\n<g id=\"edge2\" class=\"edge\">\n<title>139710293719304&#45;&gt;139710293719416</title>\n<path fill=\"none\" stroke=\"#000000\" d=\"M72,-113.7787C72,-106.6134 72,-96.9517 72,-88.3097\"/>\n<polygon fill=\"#000000\" stroke=\"#000000\" points=\"75.5001,-88.1732 72,-78.1732 68.5001,-88.1732 75.5001,-88.1732\"/>\n</g>\n<!-- 139710293719248 -->\n<g id=\"node4\" class=\"node\">\n<title>139710293719248</title>\n<polygon fill=\"#d3d3d3\" stroke=\"#000000\" points=\"118,-192 26,-192 26,-171 118,-171 118,-192\"/>\n<text text-anchor=\"middle\" x=\"72\" y=\"-178.4\" font-family=\"Times,serif\" font-size=\"12.00\" fill=\"#000000\">AddBackward0</text>\n</g>\n<!-- 139710293719248&#45;&gt;139710293719304 -->\n<g id=\"edge3\" class=\"edge\">\n<title>139710293719248&#45;&gt;139710293719304</title>\n<path fill=\"none\" stroke=\"#000000\" d=\"M72,-170.7787C72,-163.6134 72,-153.9517 72,-145.3097\"/>\n<polygon fill=\"#000000\" stroke=\"#000000\" points=\"75.5001,-145.1732 72,-135.1732 68.5001,-145.1732 75.5001,-145.1732\"/>\n</g>\n<!-- 139710293719976 -->\n<g id=\"node5\" class=\"node\">\n<title>139710293719976</title>\n<polygon fill=\"#add8e6\" stroke=\"#000000\" points=\"54,-263 0,-263 0,-228 54,-228 54,-263\"/>\n<text text-anchor=\"middle\" x=\"27\" y=\"-235.4\" font-family=\"Times,serif\" font-size=\"12.00\" fill=\"#000000\"> (1)</text>\n</g>\n<!-- 139710293719976&#45;&gt;139710293719248 -->\n<g id=\"edge4\" class=\"edge\">\n<title>139710293719976&#45;&gt;139710293719248</title>\n<path fill=\"none\" stroke=\"#000000\" d=\"M39.535,-227.6724C45.4798,-219.2176 52.5878,-209.1085 58.6352,-200.5078\"/>\n<polygon fill=\"#000000\" stroke=\"#000000\" points=\"61.5714,-202.4169 64.4601,-192.2234 55.8452,-198.3906 61.5714,-202.4169\"/>\n</g>\n<!-- 139710293720368 -->\n<g id=\"node6\" class=\"node\">\n<title>139710293720368</title>\n<polygon fill=\"#d3d3d3\" stroke=\"#000000\" points=\"163.5,-256 72.5,-256 72.5,-235 163.5,-235 163.5,-256\"/>\n<text text-anchor=\"middle\" x=\"118\" y=\"-242.4\" font-family=\"Times,serif\" font-size=\"12.00\" fill=\"#000000\">MulBackward0</text>\n</g>\n<!-- 139710293720368&#45;&gt;139710293719248 -->\n<g id=\"edge5\" class=\"edge\">\n<title>139710293720368&#45;&gt;139710293719248</title>\n<path fill=\"none\" stroke=\"#000000\" d=\"M110.404,-234.9317C103.7191,-225.6309 93.821,-211.8597 85.7479,-200.6276\"/>\n<polygon fill=\"#000000\" stroke=\"#000000\" points=\"88.4395,-198.3753 79.761,-192.2979 82.7553,-202.4608 88.4395,-198.3753\"/>\n</g>\n<!-- 139710293717624 -->\n<g id=\"node7\" class=\"node\">\n<title>139710293717624</title>\n<polygon fill=\"#add8e6\" stroke=\"#000000\" points=\"145,-334 91,-334 91,-299 145,-299 145,-334\"/>\n<text text-anchor=\"middle\" x=\"118\" y=\"-306.4\" font-family=\"Times,serif\" font-size=\"12.00\" fill=\"#000000\"> (1)</text>\n</g>\n<!-- 139710293717624&#45;&gt;139710293720368 -->\n<g id=\"edge6\" class=\"edge\">\n<title>139710293717624&#45;&gt;139710293720368</title>\n<path fill=\"none\" stroke=\"#000000\" d=\"M118,-298.9494C118,-289.058 118,-276.6435 118,-266.2693\"/>\n<polygon fill=\"#000000\" stroke=\"#000000\" points=\"121.5001,-266.0288 118,-256.0288 114.5001,-266.0289 121.5001,-266.0288\"/>\n</g>\n</g>\n</svg>\n"
          },
          "metadata": {
            "tags": []
          },
          "execution_count": 17
        }
      ]
    },
    {
      "cell_type": "code",
      "metadata": {
        "colab": {
          "base_uri": "https://localhost:8080/",
          "height": 692
        },
        "id": "kq9v6TuIfmjZ",
        "outputId": "93a1c2ae-b891-4324-bd14-a091f6983aa9"
      },
      "source": [
        "# DAGs can be as complicated as you want, with multiple branches\n",
        "#\n",
        "# the following code does not make sense, except that it is syntactically correct and generates a DAG\n",
        "\n",
        "yhat = a + b * x_train_tensor\n",
        "error = y_train_tensor - yhat\n",
        "loss = (error ** 2).mean()\n",
        "\n",
        "if loss>0:\n",
        "  yhat2 = b * x_train_tensor\n",
        "  error2 = y_train_tensor - yhat2\n",
        "\n",
        "loss += error2.mean()\n",
        "\n",
        "make_dot(loss)"
      ],
      "execution_count": null,
      "outputs": [
        {
          "output_type": "execute_result",
          "data": {
            "text/plain": [
              "<graphviz.dot.Digraph at 0x7f9f2af58650>"
            ],
            "image/svg+xml": "<?xml version=\"1.0\" encoding=\"UTF-8\" standalone=\"no\"?>\n<!DOCTYPE svg PUBLIC \"-//W3C//DTD SVG 1.1//EN\"\n \"http://www.w3.org/Graphics/SVG/1.1/DTD/svg11.dtd\">\n<!-- Generated by graphviz version 2.40.1 (20161225.0304)\n -->\n<!-- Title: %3 Pages: 1 -->\n<svg width=\"326pt\" height=\"503pt\"\n viewBox=\"0.00 0.00 326.00 503.00\" xmlns=\"http://www.w3.org/2000/svg\" xmlns:xlink=\"http://www.w3.org/1999/xlink\">\n<g id=\"graph0\" class=\"graph\" transform=\"scale(1 1) rotate(0) translate(4 499)\">\n<title>%3</title>\n<polygon fill=\"#ffffff\" stroke=\"transparent\" points=\"-4,4 -4,-499 322,-499 322,4 -4,4\"/>\n<!-- 140321583046928 -->\n<g id=\"node1\" class=\"node\">\n<title>140321583046928</title>\n<polygon fill=\"#caff70\" stroke=\"#000000\" points=\"242.5,-31 188.5,-31 188.5,0 242.5,0 242.5,-31\"/>\n<text text-anchor=\"middle\" x=\"215.5\" y=\"-7\" font-family=\"monospace\" font-size=\"10.00\" fill=\"#000000\"> ()</text>\n</g>\n<!-- 140321597263376 -->\n<g id=\"node2\" class=\"node\">\n<title>140321597263376</title>\n<polygon fill=\"#d3d3d3\" stroke=\"#000000\" points=\"260,-86 171,-86 171,-67 260,-67 260,-86\"/>\n<text text-anchor=\"middle\" x=\"215.5\" y=\"-74\" font-family=\"monospace\" font-size=\"10.00\" fill=\"#000000\">AddBackward0</text>\n</g>\n<!-- 140321597263376&#45;&gt;140321583046928 -->\n<g id=\"edge14\" class=\"edge\">\n<title>140321597263376&#45;&gt;140321583046928</title>\n<path fill=\"none\" stroke=\"#000000\" d=\"M215.5,-66.9688C215.5,-60.1289 215.5,-50.5621 215.5,-41.5298\"/>\n<polygon fill=\"#000000\" stroke=\"#000000\" points=\"219.0001,-41.3678 215.5,-31.3678 212.0001,-41.3678 219.0001,-41.3678\"/>\n</g>\n<!-- 140321597262736 -->\n<g id=\"node3\" class=\"node\">\n<title>140321597262736</title>\n<polygon fill=\"#d3d3d3\" stroke=\"#000000\" points=\"225,-141 130,-141 130,-122 225,-122 225,-141\"/>\n<text text-anchor=\"middle\" x=\"177.5\" y=\"-129\" font-family=\"monospace\" font-size=\"10.00\" fill=\"#000000\">MeanBackward0</text>\n</g>\n<!-- 140321597262736&#45;&gt;140321597263376 -->\n<g id=\"edge1\" class=\"edge\">\n<title>140321597262736&#45;&gt;140321597263376</title>\n<path fill=\"none\" stroke=\"#000000\" d=\"M184.1191,-121.9197C189.2863,-114.4409 196.6174,-103.8301 202.8944,-94.745\"/>\n<polygon fill=\"#000000\" stroke=\"#000000\" points=\"205.8961,-96.5577 208.7009,-86.3408 200.137,-92.5786 205.8961,-96.5577\"/>\n</g>\n<!-- 140321597262416 -->\n<g id=\"node4\" class=\"node\">\n<title>140321597262416</title>\n<polygon fill=\"#d3d3d3\" stroke=\"#000000\" points=\"205,-196 116,-196 116,-177 205,-177 205,-196\"/>\n<text text-anchor=\"middle\" x=\"160.5\" y=\"-184\" font-family=\"monospace\" font-size=\"10.00\" fill=\"#000000\">PowBackward0</text>\n</g>\n<!-- 140321597262416&#45;&gt;140321597262736 -->\n<g id=\"edge2\" class=\"edge\">\n<title>140321597262416&#45;&gt;140321597262736</title>\n<path fill=\"none\" stroke=\"#000000\" d=\"M163.4612,-176.9197C165.6524,-169.8304 168.7135,-159.9269 171.4182,-151.1763\"/>\n<polygon fill=\"#000000\" stroke=\"#000000\" points=\"174.8491,-151.9285 174.4583,-141.3408 168.1612,-149.8613 174.8491,-151.9285\"/>\n</g>\n<!-- 140321597261008 -->\n<g id=\"node5\" class=\"node\">\n<title>140321597261008</title>\n<polygon fill=\"#d3d3d3\" stroke=\"#000000\" points=\"205,-251 116,-251 116,-232 205,-232 205,-251\"/>\n<text text-anchor=\"middle\" x=\"160.5\" y=\"-239\" font-family=\"monospace\" font-size=\"10.00\" fill=\"#000000\">SubBackward0</text>\n</g>\n<!-- 140321597261008&#45;&gt;140321597262416 -->\n<g id=\"edge3\" class=\"edge\">\n<title>140321597261008&#45;&gt;140321597262416</title>\n<path fill=\"none\" stroke=\"#000000\" d=\"M160.5,-231.9197C160.5,-224.9083 160.5,-215.1442 160.5,-206.4652\"/>\n<polygon fill=\"#000000\" stroke=\"#000000\" points=\"164.0001,-206.3408 160.5,-196.3408 157.0001,-206.3409 164.0001,-206.3408\"/>\n</g>\n<!-- 140321597262928 -->\n<g id=\"node6\" class=\"node\">\n<title>140321597262928</title>\n<polygon fill=\"#d3d3d3\" stroke=\"#000000\" points=\"205,-306 116,-306 116,-287 205,-287 205,-306\"/>\n<text text-anchor=\"middle\" x=\"160.5\" y=\"-294\" font-family=\"monospace\" font-size=\"10.00\" fill=\"#000000\">AddBackward0</text>\n</g>\n<!-- 140321597262928&#45;&gt;140321597261008 -->\n<g id=\"edge4\" class=\"edge\">\n<title>140321597262928&#45;&gt;140321597261008</title>\n<path fill=\"none\" stroke=\"#000000\" d=\"M160.5,-286.9197C160.5,-279.9083 160.5,-270.1442 160.5,-261.4652\"/>\n<polygon fill=\"#000000\" stroke=\"#000000\" points=\"164.0001,-261.3408 160.5,-251.3408 157.0001,-261.3409 164.0001,-261.3408\"/>\n</g>\n<!-- 140321597262480 -->\n<g id=\"node7\" class=\"node\">\n<title>140321597262480</title>\n<polygon fill=\"#d3d3d3\" stroke=\"#000000\" points=\"101,-361 0,-361 0,-342 101,-342 101,-361\"/>\n<text text-anchor=\"middle\" x=\"50.5\" y=\"-349\" font-family=\"monospace\" font-size=\"10.00\" fill=\"#000000\">AccumulateGrad</text>\n</g>\n<!-- 140321597262480&#45;&gt;140321597262928 -->\n<g id=\"edge5\" class=\"edge\">\n<title>140321597262480&#45;&gt;140321597262928</title>\n<path fill=\"none\" stroke=\"#000000\" d=\"M69.6605,-341.9197C86.9053,-333.2973 112.476,-320.512 132.0978,-310.7011\"/>\n<polygon fill=\"#000000\" stroke=\"#000000\" points=\"133.8109,-313.7577 141.19,-306.155 130.6804,-307.4967 133.8109,-313.7577\"/>\n</g>\n<!-- 140321583111056 -->\n<g id=\"node8\" class=\"node\">\n<title>140321583111056</title>\n<polygon fill=\"#add8e6\" stroke=\"#000000\" points=\"77.5,-428 23.5,-428 23.5,-397 77.5,-397 77.5,-428\"/>\n<text text-anchor=\"middle\" x=\"50.5\" y=\"-404\" font-family=\"monospace\" font-size=\"10.00\" fill=\"#000000\"> (1)</text>\n</g>\n<!-- 140321583111056&#45;&gt;140321597262480 -->\n<g id=\"edge6\" class=\"edge\">\n<title>140321583111056&#45;&gt;140321597262480</title>\n<path fill=\"none\" stroke=\"#000000\" d=\"M50.5,-396.791C50.5,-389.0249 50.5,-379.5706 50.5,-371.3129\"/>\n<polygon fill=\"#000000\" stroke=\"#000000\" points=\"54.0001,-371.0647 50.5,-361.0648 47.0001,-371.0648 54.0001,-371.0647\"/>\n</g>\n<!-- 140321597259920 -->\n<g id=\"node9\" class=\"node\">\n<title>140321597259920</title>\n<polygon fill=\"#d3d3d3\" stroke=\"#000000\" points=\"208,-361 119,-361 119,-342 208,-342 208,-361\"/>\n<text text-anchor=\"middle\" x=\"163.5\" y=\"-349\" font-family=\"monospace\" font-size=\"10.00\" fill=\"#000000\">MulBackward0</text>\n</g>\n<!-- 140321597259920&#45;&gt;140321597262928 -->\n<g id=\"edge7\" class=\"edge\">\n<title>140321597259920&#45;&gt;140321597262928</title>\n<path fill=\"none\" stroke=\"#000000\" d=\"M162.9774,-341.9197C162.595,-334.9083 162.0624,-325.1442 161.589,-316.4652\"/>\n<polygon fill=\"#000000\" stroke=\"#000000\" points=\"165.0763,-316.1353 161.0368,-306.3408 158.0867,-316.5166 165.0763,-316.1353\"/>\n</g>\n<!-- 140321597261328 -->\n<g id=\"node10\" class=\"node\">\n<title>140321597261328</title>\n<polygon fill=\"#d3d3d3\" stroke=\"#000000\" points=\"267,-422 166,-422 166,-403 267,-403 267,-422\"/>\n<text text-anchor=\"middle\" x=\"216.5\" y=\"-410\" font-family=\"monospace\" font-size=\"10.00\" fill=\"#000000\">AccumulateGrad</text>\n</g>\n<!-- 140321597261328&#45;&gt;140321597259920 -->\n<g id=\"edge8\" class=\"edge\">\n<title>140321597261328&#45;&gt;140321597259920</title>\n<path fill=\"none\" stroke=\"#000000\" d=\"M208.2188,-402.9688C200.3307,-393.8901 188.2686,-380.0072 178.6588,-368.947\"/>\n<polygon fill=\"#000000\" stroke=\"#000000\" points=\"181.0988,-366.4188 171.898,-361.1656 175.8147,-371.0099 181.0988,-366.4188\"/>\n</g>\n<!-- 140321597262864 -->\n<g id=\"node14\" class=\"node\">\n<title>140321597262864</title>\n<polygon fill=\"#d3d3d3\" stroke=\"#000000\" points=\"315,-361 226,-361 226,-342 315,-342 315,-361\"/>\n<text text-anchor=\"middle\" x=\"270.5\" y=\"-349\" font-family=\"monospace\" font-size=\"10.00\" fill=\"#000000\">MulBackward0</text>\n</g>\n<!-- 140321597261328&#45;&gt;140321597262864 -->\n<g id=\"edge13\" class=\"edge\">\n<title>140321597261328&#45;&gt;140321597262864</title>\n<path fill=\"none\" stroke=\"#000000\" d=\"M224.9375,-402.9688C232.9743,-393.8901 245.2641,-380.0072 255.0551,-368.947\"/>\n<polygon fill=\"#000000\" stroke=\"#000000\" points=\"257.9358,-370.9732 261.9435,-361.1656 252.6944,-366.3333 257.9358,-370.9732\"/>\n</g>\n<!-- 140321583110960 -->\n<g id=\"node11\" class=\"node\">\n<title>140321583110960</title>\n<polygon fill=\"#add8e6\" stroke=\"#000000\" points=\"243.5,-495 189.5,-495 189.5,-464 243.5,-464 243.5,-495\"/>\n<text text-anchor=\"middle\" x=\"216.5\" y=\"-471\" font-family=\"monospace\" font-size=\"10.00\" fill=\"#000000\"> (1)</text>\n</g>\n<!-- 140321583110960&#45;&gt;140321597261328 -->\n<g id=\"edge9\" class=\"edge\">\n<title>140321583110960&#45;&gt;140321597261328</title>\n<path fill=\"none\" stroke=\"#000000\" d=\"M216.5,-463.9604C216.5,-454.6356 216.5,-442.6748 216.5,-432.6317\"/>\n<polygon fill=\"#000000\" stroke=\"#000000\" points=\"220.0001,-432.35 216.5,-422.3501 213.0001,-432.3501 220.0001,-432.35\"/>\n</g>\n<!-- 140321597261520 -->\n<g id=\"node12\" class=\"node\">\n<title>140321597261520</title>\n<polygon fill=\"#d3d3d3\" stroke=\"#000000\" points=\"318,-196 223,-196 223,-177 318,-177 318,-196\"/>\n<text text-anchor=\"middle\" x=\"270.5\" y=\"-184\" font-family=\"monospace\" font-size=\"10.00\" fill=\"#000000\">MeanBackward0</text>\n</g>\n<!-- 140321597261520&#45;&gt;140321597263376 -->\n<g id=\"edge10\" class=\"edge\">\n<title>140321597261520&#45;&gt;140321597263376</title>\n<path fill=\"none\" stroke=\"#000000\" d=\"M265.6191,-176.7382C256.4636,-158.4271 236.5757,-118.6514 224.791,-95.082\"/>\n<polygon fill=\"#000000\" stroke=\"#000000\" points=\"227.8941,-93.4618 220.2914,-86.0828 221.6331,-96.5924 227.8941,-93.4618\"/>\n</g>\n<!-- 140321598614480 -->\n<g id=\"node13\" class=\"node\">\n<title>140321598614480</title>\n<polygon fill=\"#d3d3d3\" stroke=\"#000000\" points=\"315,-306 226,-306 226,-287 315,-287 315,-306\"/>\n<text text-anchor=\"middle\" x=\"270.5\" y=\"-294\" font-family=\"monospace\" font-size=\"10.00\" fill=\"#000000\">SubBackward0</text>\n</g>\n<!-- 140321598614480&#45;&gt;140321597261520 -->\n<g id=\"edge11\" class=\"edge\">\n<title>140321598614480&#45;&gt;140321597261520</title>\n<path fill=\"none\" stroke=\"#000000\" d=\"M270.5,-286.7382C270.5,-268.7541 270.5,-230.0652 270.5,-206.3599\"/>\n<polygon fill=\"#000000\" stroke=\"#000000\" points=\"274.0001,-206.0828 270.5,-196.0828 267.0001,-206.0829 274.0001,-206.0828\"/>\n</g>\n<!-- 140321597262864&#45;&gt;140321598614480 -->\n<g id=\"edge12\" class=\"edge\">\n<title>140321597262864&#45;&gt;140321598614480</title>\n<path fill=\"none\" stroke=\"#000000\" d=\"M270.5,-341.9197C270.5,-334.9083 270.5,-325.1442 270.5,-316.4652\"/>\n<polygon fill=\"#000000\" stroke=\"#000000\" points=\"274.0001,-316.3408 270.5,-306.3408 267.0001,-316.3409 274.0001,-316.3408\"/>\n</g>\n</g>\n</svg>\n"
          },
          "metadata": {},
          "execution_count": 7
        }
      ]
    },
    {
      "cell_type": "markdown",
      "metadata": {
        "id": "QrKJCe-Ii5gE"
      },
      "source": [
        "### **Actually, the optimizer can do the job for us**\n",
        "\n",
        "PyTorch implements various optimizers, and we can use any of them."
      ]
    },
    {
      "cell_type": "code",
      "metadata": {
        "id": "pZeEOPkLgs3o",
        "colab": {
          "base_uri": "https://localhost:8080/"
        },
        "outputId": "f451116b-fb73-43f1-e269-892c507f5ba0"
      },
      "source": [
        "torch.manual_seed(42)\n",
        "a = torch.randn(1, requires_grad=True, dtype=torch.float, device=device)\n",
        "b = torch.randn(1, requires_grad=True, dtype=torch.float, device=device)\n",
        "print(a, b)\n",
        "\n",
        "lr = 1e-1\n",
        "n_epochs = 1000\n",
        "\n",
        "# Defines a SGD optimizer to update the parameters\n",
        "optimizer = optim.SGD([a, b], lr=lr)\n",
        "\n",
        "for epoch in range(n_epochs):\n",
        "    yhat = a + b * x_train_tensor\n",
        "    error = y_train_tensor - yhat\n",
        "    loss = (error ** 2).mean()\n",
        "\n",
        "    loss.backward()\n",
        "\n",
        "    # No more manual update!\n",
        "    # with torch.no_grad():\n",
        "    #     a -= lr * a.grad\n",
        "    #     b -= lr * b.grad\n",
        "    optimizer.step()\n",
        "\n",
        "    # No more telling PyTorch to let gradients go!\n",
        "    # a.grad.zero_()\n",
        "    # b.grad.zero_()\n",
        "    optimizer.zero_grad()\n",
        "\n",
        "print(a, b)"
      ],
      "execution_count": null,
      "outputs": [
        {
          "output_type": "stream",
          "name": "stdout",
          "text": [
            "tensor([0.3367], requires_grad=True) tensor([0.1288], requires_grad=True)\n",
            "tensor([1.0235], requires_grad=True) tensor([1.9690], requires_grad=True)\n"
          ]
        }
      ]
    },
    {
      "cell_type": "markdown",
      "metadata": {
        "id": "ffrXkcxvmF78"
      },
      "source": [
        "### **Wait, PyTorch can take care of the loss too**\n",
        "\n"
      ]
    },
    {
      "cell_type": "code",
      "metadata": {
        "colab": {
          "base_uri": "https://localhost:8080/"
        },
        "id": "1sB9J1LBmMMw",
        "outputId": "b9047699-a000-46f8-fe97-6cea80d1a64d"
      },
      "source": [
        "\n",
        "torch.manual_seed(42)\n",
        "a = torch.randn(1, requires_grad=True, dtype=torch.float, device=device)\n",
        "b = torch.randn(1, requires_grad=True, dtype=torch.float, device=device)\n",
        "print(a, b)\n",
        "\n",
        "lr = 1e-1\n",
        "n_epochs = 1000\n",
        "\n",
        "# Defines a MSE loss function\n",
        "loss_fn = nn.MSELoss(reduction='mean')\n",
        "\n",
        "optimizer = optim.SGD([a, b], lr=lr)\n",
        "\n",
        "for epoch in range(n_epochs):\n",
        "    yhat = a + b * x_train_tensor\n",
        "\n",
        "    # No more manual loss!\n",
        "    # error = y_tensor - yhat\n",
        "    # loss = (error ** 2).mean()\n",
        "    loss = loss_fn(y_train_tensor, yhat)   # Here the loss function only requires the true outputs and the predicted outputs\n",
        "\n",
        "    loss.backward()\n",
        "    optimizer.step()\n",
        "    optimizer.zero_grad()\n",
        "\n",
        "print(a, b)"
      ],
      "execution_count": null,
      "outputs": [
        {
          "output_type": "stream",
          "name": "stdout",
          "text": [
            "tensor([0.3367], requires_grad=True) tensor([0.1288], requires_grad=True)\n",
            "tensor([1.0235], requires_grad=True) tensor([1.9690], requires_grad=True)\n"
          ]
        }
      ]
    },
    {
      "cell_type": "markdown",
      "metadata": {
        "id": "SkCeyxyWopWr"
      },
      "source": [
        "## **Pytorch: An entire model in a few lines (the most important part today)**\n",
        "\n",
        "In PyTorch the Module class can be 'subclassed' to create models that inherit some general characteristics. The most important part is that we need\n",
        "to define the **parameters** of the model and a **forward** function, that defines how the model evaluates its inputs.\n"
      ]
    },
    {
      "cell_type": "code",
      "metadata": {
        "id": "TRg91TijmbN7"
      },
      "source": [
        "# This is how to create a new class for creating Linear Regression models.\n",
        "\n",
        "class ManualLinearRegression(nn.Module):\n",
        "    def __init__(self):\n",
        "        super().__init__()\n",
        "        # To make \"a\" and \"b\" real parameters of the model, we need to wrap them with nn.Parameter\n",
        "        self.a = nn.Parameter(torch.randn(1, requires_grad=True, dtype=torch.float))\n",
        "        self.b = nn.Parameter(torch.randn(1, requires_grad=True, dtype=torch.float))\n",
        "\n",
        "    def forward(self, x):\n",
        "        # Computes the outputs / predictions\n",
        "        return self.a + self.b * x"
      ],
      "execution_count": null,
      "outputs": []
    },
    {
      "cell_type": "code",
      "metadata": {
        "colab": {
          "base_uri": "https://localhost:8080/"
        },
        "id": "oMmgiu32qP8F",
        "outputId": "ba4bfcc5-a357-47df-de3f-b63cef5f1ff1"
      },
      "source": [
        "\n",
        "\n",
        "torch.manual_seed(42)\n",
        "\n",
        "# Now we can create a model and send it at once to the device\n",
        "model = ManualLinearRegression().to(device)\n",
        "\n",
        "# We can also inspect its parameters using its state_dict\n",
        "print(model.state_dict())\n",
        "\n",
        "lr = 1e-1\n",
        "n_epochs = 1000\n",
        "\n",
        "loss_fn = nn.MSELoss(reduction='mean')\n",
        "optimizer = optim.SGD(model.parameters(), lr=lr)\n",
        "\n",
        "for epoch in range(n_epochs):\n",
        "\n",
        "    # This sets the model in 'training' mode. We have to use this.\n",
        "    model.train()\n",
        "\n",
        "    # No more manual prediction!\n",
        "    # yhat = a + b * x_tensor\n",
        "    yhat = model(x_train_tensor)\n",
        "\n",
        "    loss = loss_fn(y_train_tensor, yhat)\n",
        "    loss.backward()\n",
        "    optimizer.step()\n",
        "    optimizer.zero_grad()\n",
        "\n",
        "print(model.state_dict())"
      ],
      "execution_count": null,
      "outputs": [
        {
          "output_type": "stream",
          "name": "stdout",
          "text": [
            "OrderedDict([('a', tensor([0.3367])), ('b', tensor([0.1288]))])\n",
            "OrderedDict([('a', tensor([1.0235])), ('b', tensor([1.9690]))])\n"
          ]
        }
      ]
    },
    {
      "cell_type": "markdown",
      "metadata": {
        "id": "WRD4prSprktl"
      },
      "source": [
        "The simple linear model we created is very basic. PyTorch offers (under nn) multiple pre-made functions that can be used in the DAG. Here is how to do this here:"
      ]
    },
    {
      "cell_type": "code",
      "metadata": {
        "id": "-23kCnRJqQjL"
      },
      "source": [
        "class LayerLinearRegression(nn.Module):\n",
        "    def __init__(self):\n",
        "        super().__init__()\n",
        "        # Instead of our custom parameters, we use a Linear layer with single input and single output\n",
        "        # this implicitly defines both a (the weight) and b (the intercept)\n",
        "        self.linear = nn.Linear(1, 1)\n",
        "\n",
        "    def forward(self, x):\n",
        "        # Now it only takes a call to the layer to make predictions\n",
        "        return self.linear(x)"
      ],
      "execution_count": null,
      "outputs": []
    },
    {
      "cell_type": "code",
      "metadata": {
        "colab": {
          "base_uri": "https://localhost:8080/"
        },
        "id": "oHshRp56sQ4r",
        "outputId": "1ca3b1f7-850d-400c-df66-0443bdb92b95"
      },
      "source": [
        "[*LayerLinearRegression().parameters()]"
      ],
      "execution_count": null,
      "outputs": [
        {
          "output_type": "execute_result",
          "data": {
            "text/plain": [
              "[Parameter containing:\n",
              " tensor([[-0.2191]], requires_grad=True), Parameter containing:\n",
              " tensor([0.2018], requires_grad=True)]"
            ]
          },
          "metadata": {
            "tags": []
          },
          "execution_count": 31
        }
      ]
    },
    {
      "cell_type": "markdown",
      "metadata": {
        "id": "lBNQV7Xrsu7u"
      },
      "source": [
        "### **Define a training function for better readability**"
      ]
    },
    {
      "cell_type": "code",
      "metadata": {
        "colab": {
          "base_uri": "https://localhost:8080/"
        },
        "id": "sRpgK8m4suEd",
        "outputId": "75dcbf70-12bb-47e9-91ef-d5986fd3bd32"
      },
      "source": [
        "def make_train_step(model, loss_fn, optimizer):\n",
        "    # Builds function that performs a step in the train loop\n",
        "    def train_step(x, y):\n",
        "        # Sets model to TRAIN mode\n",
        "        model.train()\n",
        "        # Makes predictions\n",
        "        yhat = model(x)\n",
        "        # Computes loss\n",
        "        loss = loss_fn(y, yhat)\n",
        "        # Computes gradients\n",
        "        loss.backward()\n",
        "        # Updates parameters and zeroes gradients\n",
        "        optimizer.step()\n",
        "        optimizer.zero_grad()\n",
        "        # Returns the loss\n",
        "        return loss.item()\n",
        "\n",
        "    # Returns the function that will be called inside the train loop\n",
        "    return train_step\n",
        "\n",
        "# Creates the train_step function for our model, loss function and optimizer\n",
        "train_step = make_train_step(model, loss_fn, optimizer)\n",
        "losses = []\n",
        "\n",
        "# For each epoch...\n",
        "for epoch in range(n_epochs):\n",
        "    # Performs one train step and returns the corresponding loss\n",
        "    loss = train_step(x_train_tensor, y_train_tensor)\n",
        "    losses.append(loss)\n",
        "\n",
        "# Checks model's parameters\n",
        "print(model.state_dict())"
      ],
      "execution_count": null,
      "outputs": [
        {
          "output_type": "stream",
          "text": [
            "OrderedDict([('a', tensor([1.0235])), ('b', tensor([1.9690]))])\n"
          ],
          "name": "stdout"
        }
      ]
    },
    {
      "cell_type": "code",
      "metadata": {
        "id": "ToxmgDk9sRji"
      },
      "source": [],
      "execution_count": null,
      "outputs": []
    }
  ]
}